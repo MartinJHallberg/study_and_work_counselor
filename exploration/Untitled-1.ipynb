{
 "cells": [
  {
   "cell_type": "code",
   "execution_count": 12,
   "id": "8d6a1df3",
   "metadata": {},
   "outputs": [
    {
     "name": "stdout",
     "output_type": "stream",
     "text": [
      "OPENAI_API_KEY is set to: True\n"
     ]
    }
   ],
   "source": [
    "import os\n",
    "from dotenv import load_dotenv\n",
    "\n",
    "load_dotenv()\n",
    "\n",
    "OPENAI_API_KEY = os.getenv(\"OPENAI_API_KEY\")\n",
    "\n",
    "print(f\"OPENAI_API_KEY is set to: {OPENAI_API_KEY is not None}\")"
   ]
  },
  {
   "cell_type": "markdown",
   "id": "f9e98c89",
   "metadata": {},
   "source": [
    "### State"
   ]
  },
  {
   "cell_type": "code",
   "execution_count": 13,
   "id": "cffc0f67",
   "metadata": {},
   "outputs": [],
   "source": [
    "from typing import Annotated\n",
    "\n",
    "from typing_extensions import TypedDict\n",
    "\n",
    "from langgraph.graph.message import AnyMessage, add_messages\n",
    "\n",
    "\n",
    "class State(TypedDict):\n",
    "    messages: Annotated[list[AnyMessage], add_messages]"
   ]
  },
  {
   "cell_type": "markdown",
   "id": "3b7b041d",
   "metadata": {},
   "source": [
    "### Agent"
   ]
  },
  {
   "cell_type": "code",
   "execution_count": null,
   "id": "bb065608",
   "metadata": {},
   "outputs": [],
   "source": [
    "from langchain_openai import ChatOpenAI\n",
    "from langchain_core.prompts import ChatPromptTemplate\n",
    "\n",
    "def answer_conversation(state: State):\n",
    "\n",
    "    all_messages = state[\"messages\"]\n",
    "    last_message = state[\"messages\"][-1]\n",
    "\n",
    "    llm = ChatOpenAI(model=\"gpt-4o-mini\", temperature=0)\n",
    "\n",
    "    chat_prompt = ChatPromptTemplate.from_messages(\n",
    "        [\n",
    "            (\"system\", \"You are a seasoned study and work counselor.\"\n",
    "             \" Provide thoughtful and empathetic advice based on the user's messages and guide\"\n",
    "             \" them through finding a suitable study or work career.\"\n",
    "             \" Answer the last message based on your knowledge of all previous messages.\"),\n",
    "            (\"user\", \"Last message: {last_message}. All previous messages: {all_messages}\"),\n",
    "        ]\n",
    "    )\n",
    "\n",
    "    response = llm.predict_messages(\n",
    "        chat_prompt.format_messages(\n",
    "            last_message=last_message,\n",
    "            all_messages=all_messages\n",
    "        )\n",
    "    )\n",
    "\n",
    "    return {\"messages\": [response]}"
   ]
  },
  {
   "cell_type": "markdown",
   "id": "92dd4fd3",
   "metadata": {},
   "source": [
    "### Graph"
   ]
  },
  {
   "cell_type": "code",
   "execution_count": 19,
   "id": "f67a197b",
   "metadata": {},
   "outputs": [],
   "source": [
    "from langgraph.checkpoint.memory import InMemorySaver\n",
    "from langgraph.graph import END, StateGraph, START\n",
    "from langchain_core.runnables.graph import MermaidDrawMethod \n",
    "from langgraph.prebuilt import tools_condition\n",
    "import uuid\n",
    "\n",
    "builder = StateGraph(State)\n",
    "builder.add_node(\"answer_conversation\", answer_conversation)\n",
    "builder.add_edge(START, \"answer_conversation\")\n",
    "builder.add_edge(\"answer_conversation\", END)\n",
    "\n",
    "simple_chat = builder.compile(checkpointer=InMemorySaver())\n",
    "\n",
    "thread_id = str(uuid.uuid4())\n",
    "config = {\"configurable\": {\"thread_id\": thread_id}}"
   ]
  },
  {
   "cell_type": "code",
   "execution_count": 6,
   "id": "2003f962",
   "metadata": {},
   "outputs": [],
   "source": [
    "# from IPython.display import Image, display\n",
    "\n",
    "# graph_obj = simple_chat.get_graph()\n",
    "\n",
    "# # Try different rendering methods to avoid the asyncio event loop issue\n",
    "# try:\n",
    "#     # First try without Pyppeteer (uses mermaid.ink API)\n",
    "#     graph_png = graph_obj.draw_mermaid_png(\n",
    "#         output_file_path=\"langgraph_example.png\",\n",
    "#         max_retries=5,\n",
    "#         retry_delay=2.0,\n",
    "#     )\n",
    "#     display(Image(graph_png))\n",
    "# except Exception as e:\n",
    "#     print(f\"Failed to render with mermaid.ink: {e}\")\n",
    "#     try:\n",
    "#         # Alternative: render as ASCII\n",
    "#         print(\"\\nGraph structure (ASCII):\")\n",
    "#         print(graph_obj.draw_ascii())\n",
    "#     except Exception as e2:\n",
    "#         print(f\"Failed to render ASCII: {e2}\")\n",
    "#         # Fallback: show the graph structure programmatically\n",
    "#         print(\"\\nGraph nodes and edges:\")\n",
    "#         print(f\"Nodes: {list(graph_obj.nodes.keys())}\")\n",
    "#         print(f\"Edges: {list(graph_obj.edges)}\")"
   ]
  },
  {
   "cell_type": "code",
   "execution_count": 20,
   "id": "3f71d989",
   "metadata": {},
   "outputs": [
    {
     "name": "stdout",
     "output_type": "stream",
     "text": [
      "It’s wonderful to hear about your interest in nature and caring for animals! This passion can lead you to a fulfilling career that aligns with your values and interests. Here are a few paths you might consider:\n",
      "\n",
      "1. **Wildlife Conservation**: This field involves protecting and managing wildlife and their habitats. You could work with organizations focused on conservation efforts, conducting research, or even engaging in fieldwork.\n",
      "\n",
      "2. **Veterinary Medicine**: If you love animals and want to provide direct care, becoming a veterinarian or a veterinary technician could be a great fit. This path requires specific education and training, but it can be incredibly rewarding.\n",
      "\n",
      "3. **Animal Care and Training**: Working in animal shelters, zoos, or as a dog trainer can allow you to work closely with animals. You could also consider roles in animal rehabilitation or rescue organizations.\n",
      "\n",
      "4. **Environmental Science**: If you’re interested in the broader aspects of nature, studying environmental science can lead to careers in research, policy-making, or education focused on sustainability and conservation.\n",
      "\n",
      "5. **Ecotourism**: This field combines travel with environmental awareness. You could work as a guide or in management roles that promote responsible travel while educating others about nature and wildlife.\n",
      "\n",
      "6. **Agriculture and Animal Husbandry**: If you enjoy working outdoors and with farm animals, consider a career in sustainable agriculture or animal husbandry, focusing on ethical and sustainable practices.\n",
      "\n",
      "To explore these options further, I recommend researching educational programs or volunteer opportunities in your area. Gaining hands-on experience can be invaluable and help you determine which path resonates most with you. \n",
      "\n",
      "Remember, it’s important to follow your passion and find a career that not only supports you financially but also brings you joy and fulfillment. If you have any specific questions about these paths or need guidance on how to get started, feel free to ask!\n"
     ]
    }
   ],
   "source": [
    "def talk_to_model(input_text: str):\n",
    "    response = simple_chat.invoke({\n",
    "        \"messages\": input_text\n",
    "    }, config=config)\n",
    "\n",
    "    print(response[\"messages\"][-1].content)\n",
    "    return response\n",
    "\n",
    "conversation = talk_to_model(\"I am interested in being in the nature and take care of animals.\")\n"
   ]
  },
  {
   "cell_type": "code",
   "execution_count": 21,
   "id": "4068b793",
   "metadata": {},
   "outputs": [
    {
     "name": "stdout",
     "output_type": "stream",
     "text": [
      "It's great to hear that you have a strong technical inclination and enjoy working with computers! This opens up a wide range of career paths for you. Given your interests, you might want to consider fields such as:\n",
      "\n",
      "1. **Information Technology (IT)**: This could involve roles in network administration, system analysis, or IT support. These positions often require problem-solving skills and a good understanding of computer systems.\n",
      "\n",
      "2. **Software Development**: If you enjoy coding, you might explore becoming a software developer or programmer. This field allows you to create applications, websites, or software solutions, and it can be very rewarding.\n",
      "\n",
      "3. **Data Science or Data Analysis**: If you have an interest in working with data, this could be a great fit. Data scientists and analysts use technical skills to interpret complex data and help organizations make informed decisions.\n",
      "\n",
      "4. **Cybersecurity**: With the increasing importance of data protection, a career in cybersecurity could be both challenging and fulfilling. It involves protecting systems and networks from cyber threats.\n",
      "\n",
      "5. **Web Development**: If you enjoy creating and designing websites, web development could be a perfect match. This field combines creativity with technical skills.\n",
      "\n",
      "6. **Game Development**: If you have a passion for gaming, consider exploring game design or development. This field combines creativity with technical skills and can be very exciting.\n",
      "\n",
      "To help you narrow down your options, think about what aspects of working with computers you enjoy the most. Do you prefer problem-solving, creating, analyzing, or securing systems? Additionally, consider whether you would like to work in a team environment or prefer more independent work.\n",
      "\n",
      "It might also be beneficial to take some online courses or attend workshops in areas that interest you. This can help you gain more insight into what you enjoy and what skills you might want to develop further.\n",
      "\n",
      "Feel free to share more about your specific interests or any experiences you've had with technology, and I can provide more tailored advice!\n"
     ]
    }
   ],
   "source": [
    "conversation = talk_to_model(\"Hm, I would like to add that I'm also very technical and I like to work with computers.\")"
   ]
  },
  {
   "cell_type": "code",
   "execution_count": 23,
   "id": "a3d673d8",
   "metadata": {},
   "outputs": [
    {
     "name": "stdout",
     "output_type": "stream",
     "text": [
      "It seems like you're looking for a recap of our previous conversation, but I don't have access to past messages. However, I'm here to help you with your study or career path! If you could share a bit about your interests, skills, or any specific fields you're considering, I can provide tailored advice to guide you in finding a suitable study or work career. What are you passionate about?\n"
     ]
    }
   ],
   "source": [
    "conversation = talk_to_model(\"What was the first message I sent you?\")"
   ]
  },
  {
   "cell_type": "code",
   "execution_count": 23,
   "id": "2fb2bde5",
   "metadata": {},
   "outputs": [
    {
     "name": "stdout",
     "output_type": "stream",
     "text": [
      "=== Full Result Structure ===\n",
      "Type: <class 'dict'>\n",
      "Keys: dict_keys(['messages'])\n",
      "\n",
      "=== All Messages ===\n",
      "Message 1: HumanMessage\n",
      "Content: I am interested in being in the nature and take care of animals....\n",
      "\n",
      "Message 2: HumanMessage\n",
      "Content: It's wonderful to hear about your passion for nature and caring for animals! There are many fulfilli...\n",
      "\n",
      "Message 3: HumanMessage\n",
      "Content: What skills do I need to develop for wildlife biology?...\n",
      "\n",
      "Message 4: HumanMessage\n",
      "Content: It's great to see your enthusiasm for pursuing a career in wildlife biology! This field is not only ...\n",
      "\n",
      "=== Just the AI Response ===\n",
      "AI Response Type: HumanMessage\n",
      "AI Response Content:\n",
      "It's great to see your enthusiasm for pursuing a career in wildlife biology! This field is not only rewarding but also crucial for the conservation of our planet's biodiversity. To excel as a wildlife biologist, there are several key skills and areas of knowledge you should focus on developing:\n",
      "\n",
      "1. **Scientific Knowledge**: A strong foundation in biology, ecology, and environmental science is essential. Understanding animal behavior, ecosystems, and conservation principles will be crucial in your studies and work.\n",
      "\n",
      "2. **Field Research Skills**: Wildlife biologists often conduct field studies, so gaining experience in data collection methods, such as tracking animal movements, conducting surveys, and sampling habitats, is important. Familiarity with GPS technology and field equipment can also be beneficial.\n",
      "\n",
      "3. **Analytical Skills**: You'll need to analyze data and interpret results. Proficiency in statistics and experience with software tools for data analysis (like R or Python) can enhance your ability to draw meaningful conclusions from your research.\n",
      "\n",
      "4. **Communication Skills**: Being able to communicate your findings effectively, both in writing and verbally, is vital. This includes writing research papers, reports, and grant proposals, as well as presenting your work to various audiences.\n",
      "\n",
      "5. **Problem-Solving Skills**: Wildlife biologists often face complex challenges related to conservation and management. Developing critical thinking and problem-solving skills will help you devise effective strategies to address these issues.\n",
      "\n",
      "6. **Teamwork and Collaboration**: Many projects involve working with other scientists, conservationists, and stakeholders. Being able to collaborate and work well in a team is essential for success in this field.\n",
      "\n",
      "7. **Passion for Conservation**: A genuine commitment to wildlife conservation and environmental stewardship will drive your work and inspire others.\n",
      "\n",
      "To start building these skills, consider pursuing relevant coursework in biology and environmental science, seeking internships or volunteer opportunities with wildlife organizations, and participating in fieldwork or research projects. Networking with professionals in the field can also provide valuable insights and mentorship.\n",
      "\n",
      "Remember, every step you take towards developing these skills brings you closer to your goal. Stay curious and passionate about your journey in wildlife biology! If you have any more questions or need further guidance, feel free to reach out.\n"
     ]
    }
   ],
   "source": [
    "# Different ways to access the results from simple_chat.invoke()\n",
    "\n",
    "# 1. Store the result in a variable for easy access\n",
    "result = simple_chat.invoke({\n",
    "    \"messages\": \"What skills do I need to develop for wildlife biology?\"\n",
    "}, config=config)\n",
    "\n",
    "print(\"=== Full Result Structure ===\")\n",
    "print(f\"Type: {type(result)}\")\n",
    "print(f\"Keys: {result.keys()}\")\n",
    "print()\n",
    "\n",
    "print(\"=== All Messages ===\")\n",
    "for i, message in enumerate(result[\"messages\"]):\n",
    "    print(f\"Message {i+1}: {type(message).__name__}\")\n",
    "    print(f\"Content: {message.content[:100]}...\")\n",
    "    print()\n",
    "\n",
    "print(\"=== Just the AI Response ===\")\n",
    "# The AI response is typically the last message\n",
    "ai_response = result[\"messages\"][-1]\n",
    "print(f\"AI Response Type: {type(ai_response).__name__}\")\n",
    "print(f\"AI Response Content:\")\n",
    "print(ai_response.content)"
   ]
  },
  {
   "cell_type": "markdown",
   "id": "96415f1e",
   "metadata": {},
   "source": [
    "## Alternative: Better Conversation History Approach"
   ]
  },
  {
   "cell_type": "code",
   "execution_count": 24,
   "id": "5eaefefe",
   "metadata": {},
   "outputs": [],
   "source": [
    "# Alternative approach: Use the full conversation history more naturally\n",
    "def answer_conversation_v2(state: State):\n",
    "    \"\"\"\n",
    "    Better version that passes the full conversation to the LLM\n",
    "    instead of trying to format it in the prompt\n",
    "    \"\"\"\n",
    "    all_messages = state[\"messages\"]\n",
    "    \n",
    "    llm = ChatOpenAI(model=\"gpt-4o-mini\", temperature=0)\n",
    "    \n",
    "    # Create system message\n",
    "    system_message = (\"You are a seasoned study and work counselor. \"\n",
    "                     \"Provide thoughtful and empathetic advice based on the user's messages and guide \"\n",
    "                     \"them through finding a suitable study or work career. \"\n",
    "                     \"Consider the full conversation history when responding.\")\n",
    "    \n",
    "    # Build the conversation for the LLM\n",
    "    conversation_for_llm = [(\"system\", system_message)]\n",
    "    \n",
    "    # Add all previous messages to maintain natural conversation flow\n",
    "    for msg in all_messages:\n",
    "        if hasattr(msg, 'content'):\n",
    "            # Determine if it's a user or assistant message\n",
    "            if 'Human' in msg.__class__.__name__:\n",
    "                conversation_for_llm.append((\"user\", msg.content))\n",
    "            else:\n",
    "                conversation_for_llm.append((\"assistant\", msg.content))\n",
    "    \n",
    "    chat_prompt = ChatPromptTemplate.from_messages(conversation_for_llm)\n",
    "    \n",
    "    response = llm.predict_messages(chat_prompt.format_messages())\n",
    "    \n",
    "    return {\"messages\": [response]}"
   ]
  },
  {
   "cell_type": "code",
   "execution_count": 25,
   "id": "8e27807c",
   "metadata": {},
   "outputs": [
    {
     "name": "stdout",
     "output_type": "stream",
     "text": [
      "=== Testing Improved Conversation History ===\n",
      "Starting test conversation...\n",
      "🤖 AI: It's wonderful to hear that you have a passion for working with animals and being outdoors! There ar...\n",
      "🤖 AI: It's wonderful to hear that you have a passion for working with animals and being outdoors! There ar...\n",
      "🤖 AI: That's fantastic! Combining your love for animals and the outdoors with your skills in technology an...\n",
      "🤖 AI: That's fantastic! Combining your love for animals and the outdoors with your skills in technology an...\n",
      "🤖 AI: It sounds like you're looking for a career that beautifully integrates your love for animals, the outdoors, technology, and programming. Here are a few career paths that could combine all these intere...\n",
      "\n",
      "📊 Total messages in conversation: 6\n",
      "✅ The AI should now reference both your love for animals/outdoors AND your tech skills!\n",
      "🤖 AI: It sounds like you're looking for a career that beautifully integrates your love for animals, the outdoors, technology, and programming. Here are a few career paths that could combine all these intere...\n",
      "\n",
      "📊 Total messages in conversation: 6\n",
      "✅ The AI should now reference both your love for animals/outdoors AND your tech skills!\n"
     ]
    }
   ],
   "source": [
    "# Test the improved conversation history\n",
    "print(\"=== Testing Improved Conversation History ===\")\n",
    "\n",
    "# Create a new graph with the improved function (optional)\n",
    "builder_v2 = StateGraph(State)\n",
    "builder_v2.add_node(\"answer_conversation\", answer_conversation_v2)\n",
    "builder_v2.add_edge(START, \"answer_conversation\")\n",
    "builder_v2.add_edge(\"answer_conversation\", END)\n",
    "\n",
    "simple_chat_v2 = builder_v2.compile(checkpointer=InMemorySaver())\n",
    "\n",
    "# Test with a fresh conversation\n",
    "test_thread_id = str(uuid.uuid4())\n",
    "test_config = {\"configurable\": {\"thread_id\": test_thread_id}}\n",
    "\n",
    "print(\"Starting test conversation...\")\n",
    "\n",
    "# First message\n",
    "response1 = simple_chat_v2.invoke({\n",
    "    \"messages\": \"I love working with animals and being outdoors.\"\n",
    "}, config=test_config)\n",
    "\n",
    "print(\"🤖 AI:\", response1[\"messages\"][-1].content[:100] + \"...\")\n",
    "\n",
    "# Second message - should remember the first\n",
    "response2 = simple_chat_v2.invoke({\n",
    "    \"messages\": \"I'm also very good with technology and programming.\"\n",
    "}, config=test_config)\n",
    "\n",
    "print(\"🤖 AI:\", response2[\"messages\"][-1].content[:100] + \"...\")\n",
    "\n",
    "# Third message - test if it remembers both previous messages\n",
    "response3 = simple_chat_v2.invoke({\n",
    "    \"messages\": \"What career combines all these interests I mentioned?\"\n",
    "}, config=test_config)\n",
    "\n",
    "print(\"🤖 AI:\", response3[\"messages\"][-1].content[:200] + \"...\")\n",
    "\n",
    "print(f\"\\n📊 Total messages in conversation: {len(response3['messages'])}\")\n",
    "print(\"✅ The AI should now reference both your love for animals/outdoors AND your tech skills!\")"
   ]
  }
 ],
 "metadata": {
  "kernelspec": {
   "display_name": "study-and-work-counselor-py3.12",
   "language": "python",
   "name": "python3"
  },
  "language_info": {
   "codemirror_mode": {
    "name": "ipython",
    "version": 3
   },
   "file_extension": ".py",
   "mimetype": "text/x-python",
   "name": "python",
   "nbconvert_exporter": "python",
   "pygments_lexer": "ipython3",
   "version": "3.12.5"
  }
 },
 "nbformat": 4,
 "nbformat_minor": 5
}
