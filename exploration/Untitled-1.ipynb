{
 "cells": [
  {
   "cell_type": "code",
   "execution_count": 2,
   "id": "8d6a1df3",
   "metadata": {},
   "outputs": [
    {
     "name": "stdout",
     "output_type": "stream",
     "text": [
      "OPENAI_API_KEY is set to: True\n"
     ]
    }
   ],
   "source": [
    "import os\n",
    "from dotenv import load_dotenv\n",
    "\n",
    "load_dotenv()\n",
    "\n",
    "OPENAI_API_KEY = os.getenv(\"OPENAI_API_KEY\")\n",
    "\n",
    "print(f\"OPENAI_API_KEY is set to: {OPENAI_API_KEY is not None}\")"
   ]
  },
  {
   "cell_type": "markdown",
   "id": "f9e98c89",
   "metadata": {},
   "source": [
    "### State"
   ]
  },
  {
   "cell_type": "code",
   "execution_count": 3,
   "id": "cffc0f67",
   "metadata": {},
   "outputs": [],
   "source": [
    "from typing import Annotated\n",
    "\n",
    "from typing_extensions import TypedDict\n",
    "\n",
    "from langgraph.graph.message import AnyMessage, add_messages\n",
    "\n",
    "\n",
    "class State(TypedDict):\n",
    "    messages: Annotated[list[AnyMessage], add_messages]"
   ]
  },
  {
   "cell_type": "markdown",
   "id": "3b7b041d",
   "metadata": {},
   "source": [
    "### Agent"
   ]
  },
  {
   "cell_type": "code",
   "execution_count": 4,
   "id": "bb065608",
   "metadata": {},
   "outputs": [],
   "source": [
    "from langchain_openai import ChatOpenAI\n",
    "from langchain_core.prompts import ChatPromptTemplate\n",
    "\n",
    "\n",
    "def answer_conversation(state: State):\n",
    "    all_messages = state[\"messages\"]\n",
    "    last_message = state[\"messages\"][-1]\n",
    "\n",
    "    llm = ChatOpenAI(model=\"gpt-4o-mini\", temperature=0)\n",
    "\n",
    "    chat_prompt = ChatPromptTemplate.from_messages(\n",
    "        [\n",
    "            (\n",
    "                \"system\",\n",
    "                \"You are a seasoned study and work counselor.\"\n",
    "                \" Provide thoughtful and empathetic advice based on the user's messages and guide\"\n",
    "                \" them through finding a suitable study or work career.\"\n",
    "                \" Answer the last message based on your knowledge of all previous messages.\",\n",
    "            ),\n",
    "            (\n",
    "                \"user\",\n",
    "                \"Last message: {last_message}. All previous messages: {all_messages}\",\n",
    "            ),\n",
    "        ]\n",
    "    )\n",
    "\n",
    "    response = llm.predict_messages(\n",
    "        chat_prompt.format_messages(\n",
    "            last_message=last_message, all_messages=all_messages\n",
    "        )\n",
    "    )\n",
    "\n",
    "    return {\"messages\": [response]}"
   ]
  },
  {
   "cell_type": "markdown",
   "id": "92dd4fd3",
   "metadata": {},
   "source": [
    "### Graph"
   ]
  },
  {
   "cell_type": "code",
   "execution_count": 11,
   "id": "f67a197b",
   "metadata": {},
   "outputs": [],
   "source": [
    "from langgraph.checkpoint.memory import InMemorySaver\n",
    "from langgraph.graph import END, StateGraph, START\n",
    "import uuid\n",
    "\n",
    "builder = StateGraph(State)\n",
    "builder.add_node(\"answer_conversation\", answer_conversation)\n",
    "builder.add_edge(START, \"answer_conversation\")\n",
    "builder.add_edge(\"answer_conversation\", END)\n",
    "\n",
    "simple_chat = builder.compile(checkpointer=InMemorySaver())\n",
    "\n",
    "thread_id = str(uuid.uuid4())\n",
    "config = {\"configurable\": {\"thread_id\": thread_id}}"
   ]
  },
  {
   "cell_type": "code",
   "execution_count": 6,
   "id": "2003f962",
   "metadata": {},
   "outputs": [],
   "source": [
    "# from IPython.display import Image, display\n",
    "\n",
    "# graph_obj = simple_chat.get_graph()\n",
    "\n",
    "# # Try different rendering methods to avoid the asyncio event loop issue\n",
    "# try:\n",
    "#     # First try without Pyppeteer (uses mermaid.ink API)\n",
    "#     graph_png = graph_obj.draw_mermaid_png(\n",
    "#         output_file_path=\"langgraph_example.png\",\n",
    "#         max_retries=5,\n",
    "#         retry_delay=2.0,\n",
    "#     )\n",
    "#     display(Image(graph_png))\n",
    "# except Exception as e:\n",
    "#     print(f\"Failed to render with mermaid.ink: {e}\")\n",
    "#     try:\n",
    "#         # Alternative: render as ASCII\n",
    "#         print(\"\\nGraph structure (ASCII):\")\n",
    "#         print(graph_obj.draw_ascii())\n",
    "#     except Exception as e2:\n",
    "#         print(f\"Failed to render ASCII: {e2}\")\n",
    "#         # Fallback: show the graph structure programmatically\n",
    "#         print(\"\\nGraph nodes and edges:\")\n",
    "#         print(f\"Nodes: {list(graph_obj.nodes.keys())}\")\n",
    "#         print(f\"Edges: {list(graph_obj.edges)}\")"
   ]
  },
  {
   "cell_type": "code",
   "execution_count": 20,
   "id": "3f71d989",
   "metadata": {},
   "outputs": [
    {
     "name": "stdout",
     "output_type": "stream",
     "text": [
      "It’s wonderful to hear about your interest in nature and caring for animals! This passion can lead you to a fulfilling career that aligns with your values and interests. Here are a few paths you might consider:\n",
      "\n",
      "1. **Wildlife Conservation**: This field involves protecting and managing wildlife and their habitats. You could work with organizations focused on conservation efforts, conducting research, or even engaging in fieldwork.\n",
      "\n",
      "2. **Veterinary Medicine**: If you love animals and want to provide direct care, becoming a veterinarian or a veterinary technician could be a great fit. This path requires specific education and training, but it can be incredibly rewarding.\n",
      "\n",
      "3. **Animal Care and Training**: Working in animal shelters, zoos, or as a dog trainer can allow you to work closely with animals. You could also consider roles in animal rehabilitation or rescue organizations.\n",
      "\n",
      "4. **Environmental Science**: If you’re interested in the broader aspects of nature, studying environmental science can lead to careers in research, policy-making, or education focused on sustainability and conservation.\n",
      "\n",
      "5. **Ecotourism**: This field combines travel with environmental awareness. You could work as a guide or in management roles that promote responsible travel while educating others about nature and wildlife.\n",
      "\n",
      "6. **Agriculture and Animal Husbandry**: If you enjoy working outdoors and with farm animals, consider a career in sustainable agriculture or animal husbandry, focusing on ethical and sustainable practices.\n",
      "\n",
      "To explore these options further, I recommend researching educational programs or volunteer opportunities in your area. Gaining hands-on experience can be invaluable and help you determine which path resonates most with you. \n",
      "\n",
      "Remember, it’s important to follow your passion and find a career that not only supports you financially but also brings you joy and fulfillment. If you have any specific questions about these paths or need guidance on how to get started, feel free to ask!\n"
     ]
    }
   ],
   "source": [
    "def talk_to_model(input_text: str):\n",
    "    response = simple_chat.invoke({\"messages\": input_text}, config=config)\n",
    "\n",
    "    print(response[\"messages\"][-1].content)\n",
    "    return response\n",
    "\n",
    "\n",
    "conversation = talk_to_model(\n",
    "    \"I am interested in being in the nature and take care of animals.\"\n",
    ")"
   ]
  },
  {
   "cell_type": "code",
   "execution_count": 21,
   "id": "4068b793",
   "metadata": {},
   "outputs": [
    {
     "name": "stdout",
     "output_type": "stream",
     "text": [
      "It's great to hear that you have a strong technical inclination and enjoy working with computers! This opens up a wide range of career paths for you. Given your interests, you might want to consider fields such as:\n",
      "\n",
      "1. **Information Technology (IT)**: This could involve roles in network administration, system analysis, or IT support. These positions often require problem-solving skills and a good understanding of computer systems.\n",
      "\n",
      "2. **Software Development**: If you enjoy coding, you might explore becoming a software developer or programmer. This field allows you to create applications, websites, or software solutions, and it can be very rewarding.\n",
      "\n",
      "3. **Data Science or Data Analysis**: If you have an interest in working with data, this could be a great fit. Data scientists and analysts use technical skills to interpret complex data and help organizations make informed decisions.\n",
      "\n",
      "4. **Cybersecurity**: With the increasing importance of data protection, a career in cybersecurity could be both challenging and fulfilling. It involves protecting systems and networks from cyber threats.\n",
      "\n",
      "5. **Web Development**: If you enjoy creating and designing websites, web development could be a perfect match. This field combines creativity with technical skills.\n",
      "\n",
      "6. **Game Development**: If you have a passion for gaming, consider exploring game design or development. This field combines creativity with technical skills and can be very exciting.\n",
      "\n",
      "To help you narrow down your options, think about what aspects of working with computers you enjoy the most. Do you prefer problem-solving, creating, analyzing, or securing systems? Additionally, consider whether you would like to work in a team environment or prefer more independent work.\n",
      "\n",
      "It might also be beneficial to take some online courses or attend workshops in areas that interest you. This can help you gain more insight into what you enjoy and what skills you might want to develop further.\n",
      "\n",
      "Feel free to share more about your specific interests or any experiences you've had with technology, and I can provide more tailored advice!\n"
     ]
    }
   ],
   "source": [
    "conversation = talk_to_model(\n",
    "    \"Hm, I would like to add that I'm also very technical and I like to work with computers.\"\n",
    ")"
   ]
  },
  {
   "cell_type": "code",
   "execution_count": 23,
   "id": "a3d673d8",
   "metadata": {},
   "outputs": [
    {
     "name": "stdout",
     "output_type": "stream",
     "text": [
      "It seems like you're looking for a recap of our previous conversation, but I don't have access to past messages. However, I'm here to help you with your study or career path! If you could share a bit about your interests, skills, or any specific fields you're considering, I can provide tailored advice to guide you in finding a suitable study or work career. What are you passionate about?\n"
     ]
    }
   ],
   "source": [
    "conversation = talk_to_model(\"What was the first message I sent you?\")"
   ]
  },
  {
   "cell_type": "code",
   "execution_count": 23,
   "id": "2fb2bde5",
   "metadata": {},
   "outputs": [
    {
     "name": "stdout",
     "output_type": "stream",
     "text": [
      "=== Full Result Structure ===\n",
      "Type: <class 'dict'>\n",
      "Keys: dict_keys(['messages'])\n",
      "\n",
      "=== All Messages ===\n",
      "Message 1: HumanMessage\n",
      "Content: I am interested in being in the nature and take care of animals....\n",
      "\n",
      "Message 2: HumanMessage\n",
      "Content: It's wonderful to hear about your passion for nature and caring for animals! There are many fulfilli...\n",
      "\n",
      "Message 3: HumanMessage\n",
      "Content: What skills do I need to develop for wildlife biology?...\n",
      "\n",
      "Message 4: HumanMessage\n",
      "Content: It's great to see your enthusiasm for pursuing a career in wildlife biology! This field is not only ...\n",
      "\n",
      "=== Just the AI Response ===\n",
      "AI Response Type: HumanMessage\n",
      "AI Response Content:\n",
      "It's great to see your enthusiasm for pursuing a career in wildlife biology! This field is not only rewarding but also crucial for the conservation of our planet's biodiversity. To excel as a wildlife biologist, there are several key skills and areas of knowledge you should focus on developing:\n",
      "\n",
      "1. **Scientific Knowledge**: A strong foundation in biology, ecology, and environmental science is essential. Understanding animal behavior, ecosystems, and conservation principles will be crucial in your studies and work.\n",
      "\n",
      "2. **Field Research Skills**: Wildlife biologists often conduct field studies, so gaining experience in data collection methods, such as tracking animal movements, conducting surveys, and sampling habitats, is important. Familiarity with GPS technology and field equipment can also be beneficial.\n",
      "\n",
      "3. **Analytical Skills**: You'll need to analyze data and interpret results. Proficiency in statistics and experience with software tools for data analysis (like R or Python) can enhance your ability to draw meaningful conclusions from your research.\n",
      "\n",
      "4. **Communication Skills**: Being able to communicate your findings effectively, both in writing and verbally, is vital. This includes writing research papers, reports, and grant proposals, as well as presenting your work to various audiences.\n",
      "\n",
      "5. **Problem-Solving Skills**: Wildlife biologists often face complex challenges related to conservation and management. Developing critical thinking and problem-solving skills will help you devise effective strategies to address these issues.\n",
      "\n",
      "6. **Teamwork and Collaboration**: Many projects involve working with other scientists, conservationists, and stakeholders. Being able to collaborate and work well in a team is essential for success in this field.\n",
      "\n",
      "7. **Passion for Conservation**: A genuine commitment to wildlife conservation and environmental stewardship will drive your work and inspire others.\n",
      "\n",
      "To start building these skills, consider pursuing relevant coursework in biology and environmental science, seeking internships or volunteer opportunities with wildlife organizations, and participating in fieldwork or research projects. Networking with professionals in the field can also provide valuable insights and mentorship.\n",
      "\n",
      "Remember, every step you take towards developing these skills brings you closer to your goal. Stay curious and passionate about your journey in wildlife biology! If you have any more questions or need further guidance, feel free to reach out.\n"
     ]
    }
   ],
   "source": [
    "# Different ways to access the results from simple_chat.invoke()\n",
    "\n",
    "# 1. Store the result in a variable for easy access\n",
    "result = simple_chat.invoke(\n",
    "    {\"messages\": \"What skills do I need to develop for wildlife biology?\"},\n",
    "    config=config,\n",
    ")\n",
    "\n",
    "print(\"=== Full Result Structure ===\")\n",
    "print(f\"Type: {type(result)}\")\n",
    "print(f\"Keys: {result.keys()}\")\n",
    "print()\n",
    "\n",
    "print(\"=== All Messages ===\")\n",
    "for i, message in enumerate(result[\"messages\"]):\n",
    "    print(f\"Message {i + 1}: {type(message).__name__}\")\n",
    "    print(f\"Content: {message.content[:100]}...\")\n",
    "    print()\n",
    "\n",
    "print(\"=== Just the AI Response ===\")\n",
    "# The AI response is typically the last message\n",
    "ai_response = result[\"messages\"][-1]\n",
    "print(f\"AI Response Type: {type(ai_response).__name__}\")\n",
    "print(\"AI Response Content:\")\n",
    "print(ai_response.content)"
   ]
  },
  {
   "cell_type": "markdown",
   "id": "96415f1e",
   "metadata": {},
   "source": [
    "## Alternative: Better Conversation History Approach"
   ]
  },
  {
   "cell_type": "code",
   "execution_count": null,
   "id": "5eaefefe",
   "metadata": {},
   "outputs": [],
   "source": [
    "# Alternative approach: Use the full conversation history more naturally\n",
    "def answer_conversation_v2(state: State):\n",
    "    \"\"\"\n",
    "    Better version that passes the full conversation to the LLM\n",
    "    instead of trying to format it in the prompt\n",
    "    \"\"\"\n",
    "    all_messages = state[\"messages\"]\n",
    "\n",
    "    llm = ChatOpenAI(model=\"gpt-4o-mini\", temperature=0)\n",
    "\n",
    "    # Create system message\n",
    "    system_message = (\n",
    "        \"You are a seasoned study and work counselor. \"\n",
    "        \"Provide thoughtful and empathetic advice based on the user's messages and guide \"\n",
    "        \"them through finding a suitable study or work  career. \"\n",
    "        \"Consider the full conversation history when responding.\"\n",
    "    )\n",
    "\n",
    "    # Build the conversation for the LLM\n",
    "    conversation_for_llm = [(\"system\", system_message)]\n",
    "\n",
    "    # Add all previous messages to maintain natural conversation flow\n",
    "    for msg in all_messages:\n",
    "        if hasattr(msg, \"content\"):\n",
    "            # Determine if it's a user or assistant message\n",
    "            if \"Human\" in msg.__class__.__name__:\n",
    "                conversation_for_llm.append((\"user\", msg.content))\n",
    "            else:\n",
    "                conversation_for_llm.append((\"assistant\", msg.content))\n",
    "\n",
    "    chat_prompt = ChatPromptTemplate.from_messages(conversation_for_llm)\n",
    "\n",
    "    response = llm.predict_messages(chat_prompt.format_messages())\n",
    "\n",
    "    return {\"messages\": [response]}"
   ]
  },
  {
   "cell_type": "code",
   "execution_count": 17,
   "id": "8e27807c",
   "metadata": {},
   "outputs": [
    {
     "name": "stdout",
     "output_type": "stream",
     "text": [
      "=== Testing Improved Conversation History ===\n"
     ]
    }
   ],
   "source": [
    "# Test the improved conversation history\n",
    "print(\"=== Testing Improved Conversation History ===\")\n",
    "\n",
    "# Create a new graph with the improved function (optional)\n",
    "builder_v2 = StateGraph(State)\n",
    "builder_v2.add_node(\"answer_conversation\", answer_conversation_v2)\n",
    "builder_v2.add_edge(START, \"answer_conversation\")\n",
    "builder_v2.add_edge(\"answer_conversation\", END)\n",
    "\n",
    "simple_chat_v2 = builder_v2.compile(checkpointer=InMemorySaver())\n",
    "\n",
    "# Test with a fresh conversation\n",
    "test_thread_id = str(uuid.uuid4())\n",
    "test_config = {\"configurable\": {\"thread_id\": test_thread_id}}\n",
    "\n",
    "\n",
    "def stream_graph_updates(user_input: str):\n",
    "    # Fix: Pass the user input as a simple string, not as a dict with role/content\n",
    "    for event in simple_chat_v2.stream({\"messages\": user_input}, config=test_config):\n",
    "        for value in event.values():\n",
    "            print(\"Assistant:\", value[\"messages\"][-1].content)"
   ]
  },
  {
   "cell_type": "code",
   "execution_count": 18,
   "id": "0f437f60",
   "metadata": {},
   "outputs": [
    {
     "name": "stdout",
     "output_type": "stream",
     "text": [
      "Assistant: It seems like your message didn't come through. If you have any questions or need guidance regarding your study or work career, please feel free to share! I'm here to help you navigate your options and find a path that suits you best.\n",
      "Assistant: Hello! How can I assist you today? If you have any questions about your studies or career options, feel free to share!\n",
      "Assistant: Hello! How can I assist you today? If you have any questions about your studies or career options, feel free to share!\n",
      "Assistant: That’s a great combination! Technical subjects can lead to a variety of exciting careers, and having an interest in nature opens up even more possibilities, especially in fields that focus on environmental science, sustainability, and conservation.\n",
      "\n",
      "Here are a few career paths you might consider:\n",
      "\n",
      "1. **Environmental Engineering**: This field combines engineering principles with environmental science to develop solutions for environmental problems, such as pollution control and waste management.\n",
      "\n",
      "2. **Wildlife Technology**: This involves using technology to study and conserve wildlife. You could work with data collection, tracking animal movements, or developing conservation strategies.\n",
      "\n",
      "3. **Renewable Energy**: If you’re interested in technology and nature, working in renewable energy (like solar or wind) could be fulfilling. You could be involved in designing, implementing, or maintaining renewable energy systems.\n",
      "\n",
      "4. **Geographic Information Systems (GIS)**: This technology is used for mapping and analyzing data related to the earth’s surface. It’s widely used in environmental planning, conservation, and resource management.\n",
      "\n",
      "5. **Agricultural Technology**: This field focuses on improving farming practices through technology, which can help increase efficiency and sustainability in food production.\n",
      "\n",
      "6. **Environmental Science**: If you enjoy research, you might consider a career in environmental science, where you can study ecosystems, climate change, and conservation efforts.\n",
      "\n",
      "7. **Sustainable Design**: This involves creating products or systems that are environmentally friendly and sustainable, often using technical skills in design and engineering.\n",
      "\n",
      "To help you further, consider what specific technical subjects you enjoy most (like coding, engineering, data analysis, etc.) and how they might intersect with your passion for nature. Additionally, think about whether you prefer hands-on work, research, or a mix of both. \n",
      "\n",
      "If you’d like, I can help you explore educational programs or resources related to these fields!\n",
      "Assistant: That’s a great combination! Technical subjects can lead to a variety of exciting careers, and having an interest in nature opens up even more possibilities, especially in fields that focus on environmental science, sustainability, and conservation.\n",
      "\n",
      "Here are a few career paths you might consider:\n",
      "\n",
      "1. **Environmental Engineering**: This field combines engineering principles with environmental science to develop solutions for environmental problems, such as pollution control and waste management.\n",
      "\n",
      "2. **Wildlife Technology**: This involves using technology to study and conserve wildlife. You could work with data collection, tracking animal movements, or developing conservation strategies.\n",
      "\n",
      "3. **Renewable Energy**: If you’re interested in technology and nature, working in renewable energy (like solar or wind) could be fulfilling. You could be involved in designing, implementing, or maintaining renewable energy systems.\n",
      "\n",
      "4. **Geographic Information Systems (GIS)**: This technology is used for mapping and analyzing data related to the earth’s surface. It’s widely used in environmental planning, conservation, and resource management.\n",
      "\n",
      "5. **Agricultural Technology**: This field focuses on improving farming practices through technology, which can help increase efficiency and sustainability in food production.\n",
      "\n",
      "6. **Environmental Science**: If you enjoy research, you might consider a career in environmental science, where you can study ecosystems, climate change, and conservation efforts.\n",
      "\n",
      "7. **Sustainable Design**: This involves creating products or systems that are environmentally friendly and sustainable, often using technical skills in design and engineering.\n",
      "\n",
      "To help you further, consider what specific technical subjects you enjoy most (like coding, engineering, data analysis, etc.) and how they might intersect with your passion for nature. Additionally, think about whether you prefer hands-on work, research, or a mix of both. \n",
      "\n",
      "If you’d like, I can help you explore educational programs or resources related to these fields!\n",
      "Assistant: That’s wonderful! Your interest in animals, combined with your passion for technical subjects and nature, opens up several exciting career paths. Here are some options that might resonate with you:\n",
      "\n",
      "1. **Wildlife Biologist**: This role involves studying animals in their natural habitats, understanding their behaviors, and working on conservation efforts. You might use technology for tracking and data analysis.\n",
      "\n",
      "2. **Veterinary Technology**: If you love working directly with animals, becoming a veterinary technician could be a great fit. This role involves assisting veterinarians in caring for animals, and it often requires technical skills in medical technology.\n",
      "\n",
      "3. **Conservation Technology Specialist**: This position focuses on using technology to aid in wildlife conservation efforts. You could work with drones, camera traps, or data analysis to monitor animal populations and habitats.\n",
      "\n",
      "4. **Zoologist**: Zoologists study animals and their ecosystems. They often conduct research and may work in zoos, wildlife parks, or research institutions. Technical skills can be beneficial for data collection and analysis.\n",
      "\n",
      "5. **Animal Behaviorist**: If you’re interested in understanding animal behavior, this field involves studying how animals interact with each other and their environments. You might use technology to observe and analyze behaviors.\n",
      "\n",
      "6. **Ecologist**: Ecologists study the relationships between animals, plants, and their environments. This role often involves fieldwork and data analysis, making it a good fit for someone with technical skills.\n",
      "\n",
      "7. **Marine Biologist**: If you’re interested in aquatic animals, marine biology could be a great fit. This field involves studying ocean ecosystems and the creatures that inhabit them, often using technology for research and data collection.\n",
      "\n",
      "8. **Animal Welfare Scientist**: This role focuses on improving the welfare of animals in various settings, including farms, zoos, and shelters. You might use research and technology to develop better practices for animal care.\n",
      "\n",
      "To explore these options further, consider what aspects of working with animals excite you the most. Do you prefer hands-on care, research, or conservation efforts? Additionally, think about any relevant educational programs or volunteer opportunities that could help you gain experience in these fields.\n",
      "\n",
      "If you’d like more information on specific programs or resources, just let me know!\n",
      "Assistant: That’s wonderful! Your interest in animals, combined with your passion for technical subjects and nature, opens up several exciting career paths. Here are some options that might resonate with you:\n",
      "\n",
      "1. **Wildlife Biologist**: This role involves studying animals in their natural habitats, understanding their behaviors, and working on conservation efforts. You might use technology for tracking and data analysis.\n",
      "\n",
      "2. **Veterinary Technology**: If you love working directly with animals, becoming a veterinary technician could be a great fit. This role involves assisting veterinarians in caring for animals, and it often requires technical skills in medical technology.\n",
      "\n",
      "3. **Conservation Technology Specialist**: This position focuses on using technology to aid in wildlife conservation efforts. You could work with drones, camera traps, or data analysis to monitor animal populations and habitats.\n",
      "\n",
      "4. **Zoologist**: Zoologists study animals and their ecosystems. They often conduct research and may work in zoos, wildlife parks, or research institutions. Technical skills can be beneficial for data collection and analysis.\n",
      "\n",
      "5. **Animal Behaviorist**: If you’re interested in understanding animal behavior, this field involves studying how animals interact with each other and their environments. You might use technology to observe and analyze behaviors.\n",
      "\n",
      "6. **Ecologist**: Ecologists study the relationships between animals, plants, and their environments. This role often involves fieldwork and data analysis, making it a good fit for someone with technical skills.\n",
      "\n",
      "7. **Marine Biologist**: If you’re interested in aquatic animals, marine biology could be a great fit. This field involves studying ocean ecosystems and the creatures that inhabit them, often using technology for research and data collection.\n",
      "\n",
      "8. **Animal Welfare Scientist**: This role focuses on improving the welfare of animals in various settings, including farms, zoos, and shelters. You might use research and technology to develop better practices for animal care.\n",
      "\n",
      "To explore these options further, consider what aspects of working with animals excite you the most. Do you prefer hands-on care, research, or conservation efforts? Additionally, think about any relevant educational programs or volunteer opportunities that could help you gain experience in these fields.\n",
      "\n",
      "If you’d like more information on specific programs or resources, just let me know!\n",
      "Assistant: It looks like your message didn’t come through again. If you have any further questions or thoughts about your interests in technical subjects, nature, and animals, please feel free to share! I'm here to help you explore your options and find a suitable path for your studies or career.\n",
      "Assistant: It looks like your message didn’t come through again. If you have any further questions or thoughts about your interests in technical subjects, nature, and animals, please feel free to share! I'm here to help you explore your options and find a suitable path for your studies or career.\n"
     ]
    },
    {
     "ename": "KeyboardInterrupt",
     "evalue": "Interrupted by user",
     "output_type": "error",
     "traceback": [
      "\u001b[31m---------------------------------------------------------------------------\u001b[39m",
      "\u001b[31mKeyboardInterrupt\u001b[39m                         Traceback (most recent call last)",
      "\u001b[36mCell\u001b[39m\u001b[36m \u001b[39m\u001b[32mIn[18]\u001b[39m\u001b[32m, line 2\u001b[39m\n\u001b[32m      1\u001b[39m \u001b[38;5;28;01mwhile\u001b[39;00m \u001b[38;5;28;01mTrue\u001b[39;00m:\n\u001b[32m----> \u001b[39m\u001b[32m2\u001b[39m     user_input = \u001b[38;5;28;43minput\u001b[39;49m\u001b[43m(\u001b[49m\u001b[33;43m\"\u001b[39;49m\u001b[33;43mUser: \u001b[39;49m\u001b[33;43m\"\u001b[39;49m\u001b[43m)\u001b[49m\n\u001b[32m      3\u001b[39m     \u001b[38;5;28;01mif\u001b[39;00m user_input.lower() \u001b[38;5;129;01min\u001b[39;00m [\u001b[33m\"\u001b[39m\u001b[33mquit\u001b[39m\u001b[33m\"\u001b[39m, \u001b[33m\"\u001b[39m\u001b[33mexit\u001b[39m\u001b[33m\"\u001b[39m, \u001b[33m\"\u001b[39m\u001b[33mq\u001b[39m\u001b[33m\"\u001b[39m]:\n\u001b[32m      4\u001b[39m         \u001b[38;5;28mprint\u001b[39m(\u001b[33m\"\u001b[39m\u001b[33mGoodbye!\u001b[39m\u001b[33m\"\u001b[39m)\n",
      "\u001b[36mFile \u001b[39m\u001b[32mc:\\Projects\\study_and_work_counselor\\.venv\\Lib\\site-packages\\ipykernel\\kernelbase.py:1275\u001b[39m, in \u001b[36mKernel.raw_input\u001b[39m\u001b[34m(self, prompt)\u001b[39m\n\u001b[32m   1273\u001b[39m     msg = \u001b[33m\"\u001b[39m\u001b[33mraw_input was called, but this frontend does not support input requests.\u001b[39m\u001b[33m\"\u001b[39m\n\u001b[32m   1274\u001b[39m     \u001b[38;5;28;01mraise\u001b[39;00m StdinNotImplementedError(msg)\n\u001b[32m-> \u001b[39m\u001b[32m1275\u001b[39m \u001b[38;5;28;01mreturn\u001b[39;00m \u001b[38;5;28;43mself\u001b[39;49m\u001b[43m.\u001b[49m\u001b[43m_input_request\u001b[49m\u001b[43m(\u001b[49m\n\u001b[32m   1276\u001b[39m \u001b[43m    \u001b[49m\u001b[38;5;28;43mstr\u001b[39;49m\u001b[43m(\u001b[49m\u001b[43mprompt\u001b[49m\u001b[43m)\u001b[49m\u001b[43m,\u001b[49m\n\u001b[32m   1277\u001b[39m \u001b[43m    \u001b[49m\u001b[38;5;28;43mself\u001b[39;49m\u001b[43m.\u001b[49m\u001b[43m_parent_ident\u001b[49m\u001b[43m[\u001b[49m\u001b[33;43m\"\u001b[39;49m\u001b[33;43mshell\u001b[39;49m\u001b[33;43m\"\u001b[39;49m\u001b[43m]\u001b[49m\u001b[43m,\u001b[49m\n\u001b[32m   1278\u001b[39m \u001b[43m    \u001b[49m\u001b[38;5;28;43mself\u001b[39;49m\u001b[43m.\u001b[49m\u001b[43mget_parent\u001b[49m\u001b[43m(\u001b[49m\u001b[33;43m\"\u001b[39;49m\u001b[33;43mshell\u001b[39;49m\u001b[33;43m\"\u001b[39;49m\u001b[43m)\u001b[49m\u001b[43m,\u001b[49m\n\u001b[32m   1279\u001b[39m \u001b[43m    \u001b[49m\u001b[43mpassword\u001b[49m\u001b[43m=\u001b[49m\u001b[38;5;28;43;01mFalse\u001b[39;49;00m\u001b[43m,\u001b[49m\n\u001b[32m   1280\u001b[39m \u001b[43m\u001b[49m\u001b[43m)\u001b[49m\n",
      "\u001b[36mFile \u001b[39m\u001b[32mc:\\Projects\\study_and_work_counselor\\.venv\\Lib\\site-packages\\ipykernel\\kernelbase.py:1320\u001b[39m, in \u001b[36mKernel._input_request\u001b[39m\u001b[34m(self, prompt, ident, parent, password)\u001b[39m\n\u001b[32m   1317\u001b[39m \u001b[38;5;28;01mexcept\u001b[39;00m \u001b[38;5;167;01mKeyboardInterrupt\u001b[39;00m:\n\u001b[32m   1318\u001b[39m     \u001b[38;5;66;03m# re-raise KeyboardInterrupt, to truncate traceback\u001b[39;00m\n\u001b[32m   1319\u001b[39m     msg = \u001b[33m\"\u001b[39m\u001b[33mInterrupted by user\u001b[39m\u001b[33m\"\u001b[39m\n\u001b[32m-> \u001b[39m\u001b[32m1320\u001b[39m     \u001b[38;5;28;01mraise\u001b[39;00m \u001b[38;5;167;01mKeyboardInterrupt\u001b[39;00m(msg) \u001b[38;5;28;01mfrom\u001b[39;00m\u001b[38;5;250m \u001b[39m\u001b[38;5;28;01mNone\u001b[39;00m\n\u001b[32m   1321\u001b[39m \u001b[38;5;28;01mexcept\u001b[39;00m \u001b[38;5;167;01mException\u001b[39;00m:\n\u001b[32m   1322\u001b[39m     \u001b[38;5;28mself\u001b[39m.log.warning(\u001b[33m\"\u001b[39m\u001b[33mInvalid Message:\u001b[39m\u001b[33m\"\u001b[39m, exc_info=\u001b[38;5;28;01mTrue\u001b[39;00m)\n",
      "\u001b[31mKeyboardInterrupt\u001b[39m: Interrupted by user"
     ]
    }
   ],
   "source": [
    "while True:\n",
    "    user_input = input(\"User: \")\n",
    "    if user_input.lower() in [\"quit\", \"exit\", \"q\"]:\n",
    "        print(\"Goodbye!\")\n",
    "        break\n",
    "    stream_graph_updates(user_input)"
   ]
  },
  {
   "cell_type": "code",
   "execution_count": 15,
   "id": "196a0568",
   "metadata": {},
   "outputs": [
    {
     "name": "stdout",
     "output_type": "stream",
     "text": [
      "Starting test conversation...\n"
     ]
    },
    {
     "name": "stderr",
     "output_type": "stream",
     "text": [
      "C:\\Users\\MartinHallberg\\AppData\\Local\\Temp\\ipykernel_2368\\2133682887.py:31: LangChainDeprecationWarning: The method `BaseChatModel.predict_messages` was deprecated in langchain-core 0.1.7 and will be removed in 1.0. Use :meth:`~invoke` instead.\n",
      "  response = llm.predict_messages(chat_prompt.format_messages())\n"
     ]
    },
    {
     "name": "stdout",
     "output_type": "stream",
     "text": [
      "It's wonderful to hear that you have a passion for working with animals and being outdoors! There are many career paths that could align with your interests. Here are a few options to consider:\n",
      "\n",
      "1. **Veterinary Technician or Technologist**: If you enjoy caring for animals and have an interest in veterinary medicine, this could be a great fit. It involves assisting veterinarians in clinics or animal hospitals.\n",
      "\n",
      "2. **Wildlife Biologist or Conservationist**: If you’re interested in studying animals in their natural habitats and working on conservation efforts, this could be a fulfilling career. It often involves fieldwork and research.\n",
      "\n",
      "3. **Zoologist**: This role involves studying animals in captivity and the wild, focusing on their behavior, physiology, and conservation. It often requires a degree in biology or a related field.\n",
      "\n",
      "4. **Animal Trainer or Behaviorist**: If you enjoy working directly with animals and helping them learn, this could be a rewarding path. It can involve training pets, service animals, or even working with wildlife.\n",
      "\n",
      "5. **Park Ranger**: If you love being outdoors and want to protect natural resources, becoming a park ranger could be a great option. This role often involves educating the public about wildlife and conservation.\n",
      "\n",
      "6. **Agricultural or Animal Husbandry Roles**: Working on a farm or in animal husbandry can be a great way to combine your love for animals and the outdoors. This could involve caring for livestock or working in sustainable agriculture.\n",
      "\n",
      "7. **Environmental Educator**: If you enjoy sharing your passion for animals and nature with others, consider a role in education, where you can teach people about wildlife and conservation.\n",
      "\n",
      "Think about what aspects of working with animals and being outdoors excite you the most. Do you prefer hands-on care, research, education, or conservation? Additionally, consider any educational requirements for these careers and whether you’re open to pursuing further studies or certifications. \n",
      "\n",
      "If you’d like, we can explore specific paths in more detail or discuss how to gain experience in these fields!\n"
     ]
    }
   ],
   "source": [
    "print(\"Starting test conversation...\")\n",
    "\n",
    "# First message\n",
    "response1 = simple_chat_v2.invoke(\n",
    "    {\"messages\": \"I love working with animals and being outdoors.\"}, config=test_config\n",
    ")\n",
    "\n",
    "\n",
    "print(response1[\"messages\"][-1].content)"
   ]
  },
  {
   "cell_type": "code",
   "execution_count": null,
   "id": "5c9e1e43",
   "metadata": {},
   "outputs": [],
   "source": [
    "def chat_with_ai(input_text: str):\n",
    "    response = simple_chat_v2.invoke({\"messages\": input_text}, config=config)\n",
    "\n",
    "    print(response[\"messages\"][-1].content)\n",
    "    return response"
   ]
  },
  {
   "cell_type": "code",
   "execution_count": null,
   "id": "f62da01f",
   "metadata": {},
   "outputs": [
    {
     "name": "stdout",
     "output_type": "stream",
     "text": [
      "It's wonderful to hear that you have a passion for working with animals and being outdoors! There are many fulfilling career paths that can align with your interests. Here are a few options you might consider:\n",
      "\n",
      "1. **Veterinary Technician**: This role allows you to work closely with animals in a clinical setting, assisting veterinarians in providing care. It often involves both hands-on work with animals and some outdoor activities, especially if you work with wildlife or in rural areas.\n",
      "\n",
      "2. **Wildlife Biologist**: If you enjoy research and conservation, this could be a great fit. Wildlife biologists study animals in their natural habitats, which often involves fieldwork outdoors.\n",
      "\n",
      "3. **Zoologist**: Similar to wildlife biologists, zoologists study animals, but they often work in zoos or aquariums. This role can involve both research and direct care of animals.\n",
      "\n",
      "4. **Animal Trainer or Behaviorist**: If you have a knack for understanding animal behavior, you might enjoy training animals for various purposes, including service animals, therapy animals, or even performance animals.\n",
      "\n",
      "5. **Conservation Officer**: This role involves protecting wildlife and natural resources, often requiring outdoor work and interaction with the public to educate them about conservation efforts.\n",
      "\n",
      "6. **Farm or Ranch Manager**: If you enjoy hands-on work and have an interest in agriculture, managing a farm or ranch can be a rewarding way to work with animals and spend time outdoors.\n",
      "\n",
      "7. **Environmental Educator**: If you enjoy sharing your passion with others, consider a role in education, teaching people about wildlife, conservation, and the environment, often in outdoor settings.\n",
      "\n",
      "To explore these options further, consider volunteering or interning in related fields to gain experience and see what resonates with you. Additionally, researching educational programs or certifications in these areas can help you determine the best path forward. \n",
      "\n",
      "What do you think about these options? Do any of them resonate with you?...\n"
     ]
    }
   ],
   "source": []
  },
  {
   "cell_type": "code",
   "execution_count": null,
   "id": "c8d7339e",
   "metadata": {},
   "outputs": [],
   "source": [
    "# Second message - should remember the first\n",
    "response2 = simple_chat_v2.invoke(\n",
    "    {\"messages\": \"I'm also very good with technology and programming.\"},\n",
    "    config=test_config,\n",
    ")\n",
    "\n",
    "print(\"🤖 AI:\", response2[\"messages\"][-1].content[:100] + \"...\")\n",
    "\n",
    "# Third message - test if it remembers both previous messages\n",
    "response3 = simple_chat_v2.invoke(\n",
    "    {\"messages\": \"What career combines all these interests I mentioned?\"},\n",
    "    config=test_config,\n",
    ")\n",
    "\n",
    "print(\"🤖 AI:\", response3[\"messages\"][-1].content[:200] + \"...\")\n",
    "\n",
    "print(f\"\\n📊 Total messages in conversation: {len(response3['messages'])}\")\n",
    "print(\n",
    "    \"✅ The AI should now reference both your love for animals/outdoors AND your tech skills!\"\n",
    ")"
   ]
  },
  {
   "cell_type": "markdown",
   "id": "998a48e6",
   "metadata": {},
   "source": [
    "## Stream Chat"
   ]
  },
  {
   "cell_type": "code",
   "execution_count": null,
   "id": "0a9378bc",
   "metadata": {},
   "outputs": [],
   "source": []
  },
  {
   "cell_type": "code",
   "execution_count": null,
   "id": "781b45ae",
   "metadata": {},
   "outputs": [],
   "source": []
  }
 ],
 "metadata": {
  "kernelspec": {
   "display_name": "study-and-work-counselor-py3.12",
   "language": "python",
   "name": "python3"
  },
  "language_info": {
   "codemirror_mode": {
    "name": "ipython",
    "version": 3
   },
   "file_extension": ".py",
   "mimetype": "text/x-python",
   "name": "python",
   "nbconvert_exporter": "python",
   "pygments_lexer": "ipython3",
   "version": "3.12.5"
  }
 },
 "nbformat": 4,
 "nbformat_minor": 5
}
