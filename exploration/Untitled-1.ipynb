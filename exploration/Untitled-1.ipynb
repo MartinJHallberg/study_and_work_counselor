{
 "cells": [
  {
   "cell_type": "code",
   "execution_count": 2,
   "id": "8d6a1df3",
   "metadata": {},
   "outputs": [
    {
     "name": "stdout",
     "output_type": "stream",
     "text": [
      "OPENAI_API_KEY is set to: True\n"
     ]
    }
   ],
   "source": [
    "import os\n",
    "from dotenv import load_dotenv\n",
    "\n",
    "load_dotenv()\n",
    "\n",
    "OPENAI_API_KEY = os.getenv(\"OPENAI_API_KEY\")\n",
    "\n",
    "print(f\"OPENAI_API_KEY is set to: {OPENAI_API_KEY is not None}\")"
   ]
  },
  {
   "cell_type": "markdown",
   "id": "f9e98c89",
   "metadata": {},
   "source": [
    "### State"
   ]
  },
  {
   "cell_type": "code",
   "execution_count": 3,
   "id": "cffc0f67",
   "metadata": {},
   "outputs": [],
   "source": [
    "from typing import Annotated\n",
    "\n",
    "from typing_extensions import TypedDict\n",
    "\n",
    "from langgraph.graph.message import AnyMessage, add_messages\n",
    "\n",
    "\n",
    "class State(TypedDict):\n",
    "    messages: Annotated[list[AnyMessage], add_messages]"
   ]
  },
  {
   "cell_type": "markdown",
   "id": "3b7b041d",
   "metadata": {},
   "source": [
    "### Agent"
   ]
  },
  {
   "cell_type": "code",
   "execution_count": 4,
   "id": "bb065608",
   "metadata": {},
   "outputs": [],
   "source": [
    "from langchain_openai import ChatOpenAI\n",
    "from langchain_core.prompts import ChatPromptTemplate\n",
    "\n",
    "def answer_conversation(state: State):\n",
    "\n",
    "    all_messages = state[\"messages\"]\n",
    "    last_message = state[\"messages\"][-1]\n",
    "\n",
    "    llm = ChatOpenAI(model=\"gpt-4o-mini\", temperature=0)\n",
    "\n",
    "    chat_prompt = ChatPromptTemplate.from_messages(\n",
    "        [\n",
    "            (\"system\", \"You are a seasoned study and work counselor.\"\n",
    "             \" Provide thoughtful and empathetic advice based on the user's messages and guide\"\n",
    "             \" them through finding a suitable study or work career.\"\n",
    "             \" Answer the last message based on your knowledge of all previous messages.\"),\n",
    "            (\"user\", \"Last message: {last_message}. All previous messages: {all_messages}\"),\n",
    "        ]\n",
    "    )\n",
    "\n",
    "    response = llm.predict_messages(\n",
    "        chat_prompt.format_messages(\n",
    "            last_message=last_message,\n",
    "            all_messages=all_messages\n",
    "        )\n",
    "    )\n",
    "\n",
    "    return {\"messages\": [response]}"
   ]
  },
  {
   "cell_type": "markdown",
   "id": "92dd4fd3",
   "metadata": {},
   "source": [
    "### Graph"
   ]
  },
  {
   "cell_type": "code",
   "execution_count": 11,
   "id": "f67a197b",
   "metadata": {},
   "outputs": [],
   "source": [
    "from langgraph.checkpoint.memory import InMemorySaver\n",
    "from langgraph.graph import END, StateGraph, START\n",
    "from langchain_core.runnables.graph import MermaidDrawMethod \n",
    "from langgraph.prebuilt import tools_condition\n",
    "import uuid\n",
    "\n",
    "builder = StateGraph(State)\n",
    "builder.add_node(\"answer_conversation\", answer_conversation)\n",
    "builder.add_edge(START, \"answer_conversation\")\n",
    "builder.add_edge(\"answer_conversation\", END)\n",
    "\n",
    "simple_chat = builder.compile(checkpointer=InMemorySaver())\n",
    "\n",
    "thread_id = str(uuid.uuid4())\n",
    "config = {\"configurable\": {\"thread_id\": thread_id}}"
   ]
  },
  {
   "cell_type": "code",
   "execution_count": 6,
   "id": "2003f962",
   "metadata": {},
   "outputs": [],
   "source": [
    "# from IPython.display import Image, display\n",
    "\n",
    "# graph_obj = simple_chat.get_graph()\n",
    "\n",
    "# # Try different rendering methods to avoid the asyncio event loop issue\n",
    "# try:\n",
    "#     # First try without Pyppeteer (uses mermaid.ink API)\n",
    "#     graph_png = graph_obj.draw_mermaid_png(\n",
    "#         output_file_path=\"langgraph_example.png\",\n",
    "#         max_retries=5,\n",
    "#         retry_delay=2.0,\n",
    "#     )\n",
    "#     display(Image(graph_png))\n",
    "# except Exception as e:\n",
    "#     print(f\"Failed to render with mermaid.ink: {e}\")\n",
    "#     try:\n",
    "#         # Alternative: render as ASCII\n",
    "#         print(\"\\nGraph structure (ASCII):\")\n",
    "#         print(graph_obj.draw_ascii())\n",
    "#     except Exception as e2:\n",
    "#         print(f\"Failed to render ASCII: {e2}\")\n",
    "#         # Fallback: show the graph structure programmatically\n",
    "#         print(\"\\nGraph nodes and edges:\")\n",
    "#         print(f\"Nodes: {list(graph_obj.nodes.keys())}\")\n",
    "#         print(f\"Edges: {list(graph_obj.edges)}\")"
   ]
  },
  {
   "cell_type": "code",
   "execution_count": 20,
   "id": "3f71d989",
   "metadata": {},
   "outputs": [
    {
     "name": "stdout",
     "output_type": "stream",
     "text": [
      "It’s wonderful to hear about your interest in nature and caring for animals! This passion can lead you to a fulfilling career that aligns with your values and interests. Here are a few paths you might consider:\n",
      "\n",
      "1. **Wildlife Conservation**: This field involves protecting and managing wildlife and their habitats. You could work with organizations focused on conservation efforts, conducting research, or even engaging in fieldwork.\n",
      "\n",
      "2. **Veterinary Medicine**: If you love animals and want to provide direct care, becoming a veterinarian or a veterinary technician could be a great fit. This path requires specific education and training, but it can be incredibly rewarding.\n",
      "\n",
      "3. **Animal Care and Training**: Working in animal shelters, zoos, or as a dog trainer can allow you to work closely with animals. You could also consider roles in animal rehabilitation or rescue organizations.\n",
      "\n",
      "4. **Environmental Science**: If you’re interested in the broader aspects of nature, studying environmental science can lead to careers in research, policy-making, or education focused on sustainability and conservation.\n",
      "\n",
      "5. **Ecotourism**: This field combines travel with environmental awareness. You could work as a guide or in management roles that promote responsible travel while educating others about nature and wildlife.\n",
      "\n",
      "6. **Agriculture and Animal Husbandry**: If you enjoy working outdoors and with farm animals, consider a career in sustainable agriculture or animal husbandry, focusing on ethical and sustainable practices.\n",
      "\n",
      "To explore these options further, I recommend researching educational programs or volunteer opportunities in your area. Gaining hands-on experience can be invaluable and help you determine which path resonates most with you. \n",
      "\n",
      "Remember, it’s important to follow your passion and find a career that not only supports you financially but also brings you joy and fulfillment. If you have any specific questions about these paths or need guidance on how to get started, feel free to ask!\n"
     ]
    }
   ],
   "source": [
    "def talk_to_model(input_text: str):\n",
    "    response = simple_chat.invoke({\n",
    "        \"messages\": input_text\n",
    "    }, config=config)\n",
    "\n",
    "    print(response[\"messages\"][-1].content)\n",
    "    return response\n",
    "\n",
    "conversation = talk_to_model(\"I am interested in being in the nature and take care of animals.\")\n"
   ]
  },
  {
   "cell_type": "code",
   "execution_count": 21,
   "id": "4068b793",
   "metadata": {},
   "outputs": [
    {
     "name": "stdout",
     "output_type": "stream",
     "text": [
      "It's great to hear that you have a strong technical inclination and enjoy working with computers! This opens up a wide range of career paths for you. Given your interests, you might want to consider fields such as:\n",
      "\n",
      "1. **Information Technology (IT)**: This could involve roles in network administration, system analysis, or IT support. These positions often require problem-solving skills and a good understanding of computer systems.\n",
      "\n",
      "2. **Software Development**: If you enjoy coding, you might explore becoming a software developer or programmer. This field allows you to create applications, websites, or software solutions, and it can be very rewarding.\n",
      "\n",
      "3. **Data Science or Data Analysis**: If you have an interest in working with data, this could be a great fit. Data scientists and analysts use technical skills to interpret complex data and help organizations make informed decisions.\n",
      "\n",
      "4. **Cybersecurity**: With the increasing importance of data protection, a career in cybersecurity could be both challenging and fulfilling. It involves protecting systems and networks from cyber threats.\n",
      "\n",
      "5. **Web Development**: If you enjoy creating and designing websites, web development could be a perfect match. This field combines creativity with technical skills.\n",
      "\n",
      "6. **Game Development**: If you have a passion for gaming, consider exploring game design or development. This field combines creativity with technical skills and can be very exciting.\n",
      "\n",
      "To help you narrow down your options, think about what aspects of working with computers you enjoy the most. Do you prefer problem-solving, creating, analyzing, or securing systems? Additionally, consider whether you would like to work in a team environment or prefer more independent work.\n",
      "\n",
      "It might also be beneficial to take some online courses or attend workshops in areas that interest you. This can help you gain more insight into what you enjoy and what skills you might want to develop further.\n",
      "\n",
      "Feel free to share more about your specific interests or any experiences you've had with technology, and I can provide more tailored advice!\n"
     ]
    }
   ],
   "source": [
    "conversation = talk_to_model(\"Hm, I would like to add that I'm also very technical and I like to work with computers.\")"
   ]
  },
  {
   "cell_type": "code",
   "execution_count": 23,
   "id": "a3d673d8",
   "metadata": {},
   "outputs": [
    {
     "name": "stdout",
     "output_type": "stream",
     "text": [
      "It seems like you're looking for a recap of our previous conversation, but I don't have access to past messages. However, I'm here to help you with your study or career path! If you could share a bit about your interests, skills, or any specific fields you're considering, I can provide tailored advice to guide you in finding a suitable study or work career. What are you passionate about?\n"
     ]
    }
   ],
   "source": [
    "conversation = talk_to_model(\"What was the first message I sent you?\")"
   ]
  },
  {
   "cell_type": "code",
   "execution_count": 23,
   "id": "2fb2bde5",
   "metadata": {},
   "outputs": [
    {
     "name": "stdout",
     "output_type": "stream",
     "text": [
      "=== Full Result Structure ===\n",
      "Type: <class 'dict'>\n",
      "Keys: dict_keys(['messages'])\n",
      "\n",
      "=== All Messages ===\n",
      "Message 1: HumanMessage\n",
      "Content: I am interested in being in the nature and take care of animals....\n",
      "\n",
      "Message 2: HumanMessage\n",
      "Content: It's wonderful to hear about your passion for nature and caring for animals! There are many fulfilli...\n",
      "\n",
      "Message 3: HumanMessage\n",
      "Content: What skills do I need to develop for wildlife biology?...\n",
      "\n",
      "Message 4: HumanMessage\n",
      "Content: It's great to see your enthusiasm for pursuing a career in wildlife biology! This field is not only ...\n",
      "\n",
      "=== Just the AI Response ===\n",
      "AI Response Type: HumanMessage\n",
      "AI Response Content:\n",
      "It's great to see your enthusiasm for pursuing a career in wildlife biology! This field is not only rewarding but also crucial for the conservation of our planet's biodiversity. To excel as a wildlife biologist, there are several key skills and areas of knowledge you should focus on developing:\n",
      "\n",
      "1. **Scientific Knowledge**: A strong foundation in biology, ecology, and environmental science is essential. Understanding animal behavior, ecosystems, and conservation principles will be crucial in your studies and work.\n",
      "\n",
      "2. **Field Research Skills**: Wildlife biologists often conduct field studies, so gaining experience in data collection methods, such as tracking animal movements, conducting surveys, and sampling habitats, is important. Familiarity with GPS technology and field equipment can also be beneficial.\n",
      "\n",
      "3. **Analytical Skills**: You'll need to analyze data and interpret results. Proficiency in statistics and experience with software tools for data analysis (like R or Python) can enhance your ability to draw meaningful conclusions from your research.\n",
      "\n",
      "4. **Communication Skills**: Being able to communicate your findings effectively, both in writing and verbally, is vital. This includes writing research papers, reports, and grant proposals, as well as presenting your work to various audiences.\n",
      "\n",
      "5. **Problem-Solving Skills**: Wildlife biologists often face complex challenges related to conservation and management. Developing critical thinking and problem-solving skills will help you devise effective strategies to address these issues.\n",
      "\n",
      "6. **Teamwork and Collaboration**: Many projects involve working with other scientists, conservationists, and stakeholders. Being able to collaborate and work well in a team is essential for success in this field.\n",
      "\n",
      "7. **Passion for Conservation**: A genuine commitment to wildlife conservation and environmental stewardship will drive your work and inspire others.\n",
      "\n",
      "To start building these skills, consider pursuing relevant coursework in biology and environmental science, seeking internships or volunteer opportunities with wildlife organizations, and participating in fieldwork or research projects. Networking with professionals in the field can also provide valuable insights and mentorship.\n",
      "\n",
      "Remember, every step you take towards developing these skills brings you closer to your goal. Stay curious and passionate about your journey in wildlife biology! If you have any more questions or need further guidance, feel free to reach out.\n"
     ]
    }
   ],
   "source": [
    "# Different ways to access the results from simple_chat.invoke()\n",
    "\n",
    "# 1. Store the result in a variable for easy access\n",
    "result = simple_chat.invoke({\n",
    "    \"messages\": \"What skills do I need to develop for wildlife biology?\"\n",
    "}, config=config)\n",
    "\n",
    "print(\"=== Full Result Structure ===\")\n",
    "print(f\"Type: {type(result)}\")\n",
    "print(f\"Keys: {result.keys()}\")\n",
    "print()\n",
    "\n",
    "print(\"=== All Messages ===\")\n",
    "for i, message in enumerate(result[\"messages\"]):\n",
    "    print(f\"Message {i+1}: {type(message).__name__}\")\n",
    "    print(f\"Content: {message.content[:100]}...\")\n",
    "    print()\n",
    "\n",
    "print(\"=== Just the AI Response ===\")\n",
    "# The AI response is typically the last message\n",
    "ai_response = result[\"messages\"][-1]\n",
    "print(f\"AI Response Type: {type(ai_response).__name__}\")\n",
    "print(f\"AI Response Content:\")\n",
    "print(ai_response.content)"
   ]
  },
  {
   "cell_type": "markdown",
   "id": "96415f1e",
   "metadata": {},
   "source": [
    "## Alternative: Better Conversation History Approach"
   ]
  },
  {
   "cell_type": "code",
   "execution_count": 12,
   "id": "5eaefefe",
   "metadata": {},
   "outputs": [],
   "source": [
    "# Alternative approach: Use the full conversation history more naturally\n",
    "def answer_conversation_v2(state: State):\n",
    "    \"\"\"\n",
    "    Better version that passes the full conversation to the LLM\n",
    "    instead of trying to format it in the prompt\n",
    "    \"\"\"\n",
    "    all_messages = state[\"messages\"]\n",
    "    \n",
    "    llm = ChatOpenAI(model=\"gpt-4o-mini\", temperature=0)\n",
    "    \n",
    "    # Create system message\n",
    "    system_message = (\"You are a seasoned study and work counselor. \"\n",
    "                     \"Provide thoughtful and empathetic advice based on the user's messages and guide \"\n",
    "                     \"them through finding a suitable study or work career. \"\n",
    "                     \"Consider the full conversation history when responding.\")\n",
    "    \n",
    "    # Build the conversation for the LLM\n",
    "    conversation_for_llm = [(\"system\", system_message)]\n",
    "    \n",
    "    # Add all previous messages to maintain natural conversation flow\n",
    "    for msg in all_messages:\n",
    "        if hasattr(msg, 'content'):\n",
    "            # Determine if it's a user or assistant message\n",
    "            if 'Human' in msg.__class__.__name__:\n",
    "                conversation_for_llm.append((\"user\", msg.content))\n",
    "            else:\n",
    "                conversation_for_llm.append((\"assistant\", msg.content))\n",
    "    \n",
    "    chat_prompt = ChatPromptTemplate.from_messages(conversation_for_llm)\n",
    "    \n",
    "    response = llm.predict_messages(chat_prompt.format_messages())\n",
    "    \n",
    "    return {\"messages\": [response]}"
   ]
  },
  {
   "cell_type": "code",
   "execution_count": null,
   "id": "8e27807c",
   "metadata": {},
   "outputs": [
    {
     "name": "stdout",
     "output_type": "stream",
     "text": [
      "=== Testing Improved Conversation History ===\n"
     ]
    }
   ],
   "source": [
    "# Test the improved conversation history\n",
    "print(\"=== Testing Improved Conversation History ===\")\n",
    "\n",
    "# Create a new graph with the improved function (optional)\n",
    "builder_v2 = StateGraph(State)\n",
    "builder_v2.add_node(\"answer_conversation\", answer_conversation_v2)\n",
    "builder_v2.add_edge(START, \"answer_conversation\")\n",
    "builder_v2.add_edge(\"answer_conversation\", END)\n",
    "\n",
    "simple_chat_v2 = builder_v2.compile(checkpointer=InMemorySaver())\n",
    "\n",
    "# Test with a fresh conversation\n",
    "test_thread_id = str(uuid.uuid4())\n",
    "test_config = {\"configurable\": {\"thread_id\": test_thread_id}}\n",
    "\n",
    "def stream_graph_updates(user_input: str):\n",
    "    # Fix: Pass the user input as a simple string, not as a dict with role/content\n",
    "    for event in simple_chat_v2.stream({\"messages\": user_input}, config=test_config):\n",
    "        for value in event.values():\n",
    "            print(\"Assistant:\", value[\"messages\"][-1].content)"
   ]
  },
  {
   "cell_type": "code",
   "execution_count": 16,
   "id": "0f437f60",
   "metadata": {},
   "outputs": [
    {
     "ename": "ValueError",
     "evalue": "Checkpointer requires one or more of the following 'configurable' keys: thread_id, checkpoint_ns, checkpoint_id",
     "output_type": "error",
     "traceback": [
      "\u001b[31m---------------------------------------------------------------------------\u001b[39m",
      "\u001b[31mValueError\u001b[39m                                Traceback (most recent call last)",
      "\u001b[36mCell\u001b[39m\u001b[36m \u001b[39m\u001b[32mIn[16]\u001b[39m\u001b[32m, line 6\u001b[39m\n\u001b[32m      4\u001b[39m     \u001b[38;5;28mprint\u001b[39m(\u001b[33m\"\u001b[39m\u001b[33mGoodbye!\u001b[39m\u001b[33m\"\u001b[39m)\n\u001b[32m      5\u001b[39m     \u001b[38;5;28;01mbreak\u001b[39;00m\n\u001b[32m----> \u001b[39m\u001b[32m6\u001b[39m \u001b[43mstream_graph_updates\u001b[49m\u001b[43m(\u001b[49m\u001b[43muser_input\u001b[49m\u001b[43m)\u001b[49m\n",
      "\u001b[36mCell\u001b[39m\u001b[36m \u001b[39m\u001b[32mIn[13]\u001b[39m\u001b[32m, line 17\u001b[39m, in \u001b[36mstream_graph_updates\u001b[39m\u001b[34m(user_input)\u001b[39m\n\u001b[32m     16\u001b[39m \u001b[38;5;28;01mdef\u001b[39;00m\u001b[38;5;250m \u001b[39m\u001b[34mstream_graph_updates\u001b[39m(user_input: \u001b[38;5;28mstr\u001b[39m):\n\u001b[32m---> \u001b[39m\u001b[32m17\u001b[39m \u001b[43m    \u001b[49m\u001b[38;5;28;43;01mfor\u001b[39;49;00m\u001b[43m \u001b[49m\u001b[43mevent\u001b[49m\u001b[43m \u001b[49m\u001b[38;5;129;43;01min\u001b[39;49;00m\u001b[43m \u001b[49m\u001b[43msimple_chat_v2\u001b[49m\u001b[43m.\u001b[49m\u001b[43mstream\u001b[49m\u001b[43m(\u001b[49m\u001b[43m{\u001b[49m\u001b[33;43m\"\u001b[39;49m\u001b[33;43mmessages\u001b[39;49m\u001b[33;43m\"\u001b[39;49m\u001b[43m:\u001b[49m\u001b[43m \u001b[49m\u001b[43m[\u001b[49m\u001b[43m{\u001b[49m\u001b[33;43m\"\u001b[39;49m\u001b[33;43mrole\u001b[39;49m\u001b[33;43m\"\u001b[39;49m\u001b[43m:\u001b[49m\u001b[43m \u001b[49m\u001b[33;43m\"\u001b[39;49m\u001b[33;43muser\u001b[39;49m\u001b[33;43m\"\u001b[39;49m\u001b[43m,\u001b[49m\u001b[43m \u001b[49m\u001b[33;43m\"\u001b[39;49m\u001b[33;43mcontent\u001b[39;49m\u001b[33;43m\"\u001b[39;49m\u001b[43m:\u001b[49m\u001b[43m \u001b[49m\u001b[43muser_input\u001b[49m\u001b[43m}\u001b[49m\u001b[43m]\u001b[49m\u001b[43m}\u001b[49m\u001b[43m)\u001b[49m\u001b[43m:\u001b[49m\n\u001b[32m     18\u001b[39m \u001b[43m        \u001b[49m\u001b[38;5;28;43;01mfor\u001b[39;49;00m\u001b[43m \u001b[49m\u001b[43mvalue\u001b[49m\u001b[43m \u001b[49m\u001b[38;5;129;43;01min\u001b[39;49;00m\u001b[43m \u001b[49m\u001b[43mevent\u001b[49m\u001b[43m.\u001b[49m\u001b[43mvalues\u001b[49m\u001b[43m(\u001b[49m\u001b[43m)\u001b[49m\u001b[43m:\u001b[49m\n\u001b[32m     19\u001b[39m \u001b[43m            \u001b[49m\u001b[38;5;28;43mprint\u001b[39;49m\u001b[43m(\u001b[49m\u001b[33;43m\"\u001b[39;49m\u001b[33;43mAssistant:\u001b[39;49m\u001b[33;43m\"\u001b[39;49m\u001b[43m,\u001b[49m\u001b[43m \u001b[49m\u001b[43mvalue\u001b[49m\u001b[43m[\u001b[49m\u001b[33;43m\"\u001b[39;49m\u001b[33;43mmessages\u001b[39;49m\u001b[33;43m\"\u001b[39;49m\u001b[43m]\u001b[49m\u001b[43m[\u001b[49m\u001b[43m-\u001b[49m\u001b[32;43m1\u001b[39;49m\u001b[43m]\u001b[49m\u001b[43m.\u001b[49m\u001b[43mcontent\u001b[49m\u001b[43m)\u001b[49m\n",
      "\u001b[36mFile \u001b[39m\u001b[32mc:\\Projects\\study_and_work_counselor\\.venv\\Lib\\site-packages\\langgraph\\pregel\\main.py:2518\u001b[39m, in \u001b[36mPregel.stream\u001b[39m\u001b[34m(self, input, config, context, stream_mode, print_mode, output_keys, interrupt_before, interrupt_after, durability, subgraphs, debug, **kwargs)\u001b[39m\n\u001b[32m   2501\u001b[39m run_manager = callback_manager.on_chain_start(\n\u001b[32m   2502\u001b[39m     \u001b[38;5;28;01mNone\u001b[39;00m,\n\u001b[32m   2503\u001b[39m     \u001b[38;5;28minput\u001b[39m,\n\u001b[32m   2504\u001b[39m     name=config.get(\u001b[33m\"\u001b[39m\u001b[33mrun_name\u001b[39m\u001b[33m\"\u001b[39m, \u001b[38;5;28mself\u001b[39m.get_name()),\n\u001b[32m   2505\u001b[39m     run_id=config.get(\u001b[33m\"\u001b[39m\u001b[33mrun_id\u001b[39m\u001b[33m\"\u001b[39m),\n\u001b[32m   2506\u001b[39m )\n\u001b[32m   2507\u001b[39m \u001b[38;5;28;01mtry\u001b[39;00m:\n\u001b[32m   2508\u001b[39m     \u001b[38;5;66;03m# assign defaults\u001b[39;00m\n\u001b[32m   2509\u001b[39m     (\n\u001b[32m   2510\u001b[39m         stream_modes,\n\u001b[32m   2511\u001b[39m         output_keys,\n\u001b[32m   2512\u001b[39m         interrupt_before_,\n\u001b[32m   2513\u001b[39m         interrupt_after_,\n\u001b[32m   2514\u001b[39m         checkpointer,\n\u001b[32m   2515\u001b[39m         store,\n\u001b[32m   2516\u001b[39m         cache,\n\u001b[32m   2517\u001b[39m         durability_,\n\u001b[32m-> \u001b[39m\u001b[32m2518\u001b[39m     ) = \u001b[38;5;28;43mself\u001b[39;49m\u001b[43m.\u001b[49m\u001b[43m_defaults\u001b[49m\u001b[43m(\u001b[49m\n\u001b[32m   2519\u001b[39m \u001b[43m        \u001b[49m\u001b[43mconfig\u001b[49m\u001b[43m,\u001b[49m\n\u001b[32m   2520\u001b[39m \u001b[43m        \u001b[49m\u001b[43mstream_mode\u001b[49m\u001b[43m=\u001b[49m\u001b[43mstream_mode\u001b[49m\u001b[43m,\u001b[49m\n\u001b[32m   2521\u001b[39m \u001b[43m        \u001b[49m\u001b[43mprint_mode\u001b[49m\u001b[43m=\u001b[49m\u001b[43mprint_mode\u001b[49m\u001b[43m,\u001b[49m\n\u001b[32m   2522\u001b[39m \u001b[43m        \u001b[49m\u001b[43moutput_keys\u001b[49m\u001b[43m=\u001b[49m\u001b[43moutput_keys\u001b[49m\u001b[43m,\u001b[49m\n\u001b[32m   2523\u001b[39m \u001b[43m        \u001b[49m\u001b[43minterrupt_before\u001b[49m\u001b[43m=\u001b[49m\u001b[43minterrupt_before\u001b[49m\u001b[43m,\u001b[49m\n\u001b[32m   2524\u001b[39m \u001b[43m        \u001b[49m\u001b[43minterrupt_after\u001b[49m\u001b[43m=\u001b[49m\u001b[43minterrupt_after\u001b[49m\u001b[43m,\u001b[49m\n\u001b[32m   2525\u001b[39m \u001b[43m        \u001b[49m\u001b[43mdurability\u001b[49m\u001b[43m=\u001b[49m\u001b[43mdurability\u001b[49m\u001b[43m,\u001b[49m\n\u001b[32m   2526\u001b[39m \u001b[43m    \u001b[49m\u001b[43m)\u001b[49m\n\u001b[32m   2527\u001b[39m     \u001b[38;5;28;01mif\u001b[39;00m checkpointer \u001b[38;5;129;01mis\u001b[39;00m \u001b[38;5;28;01mNone\u001b[39;00m \u001b[38;5;129;01mand\u001b[39;00m durability \u001b[38;5;129;01mis\u001b[39;00m \u001b[38;5;129;01mnot\u001b[39;00m \u001b[38;5;28;01mNone\u001b[39;00m:\n\u001b[32m   2528\u001b[39m         warnings.warn(\n\u001b[32m   2529\u001b[39m             \u001b[33m\"\u001b[39m\u001b[33m`durability` has no effect when no checkpointer is present.\u001b[39m\u001b[33m\"\u001b[39m,\n\u001b[32m   2530\u001b[39m         )\n",
      "\u001b[36mFile \u001b[39m\u001b[32mc:\\Projects\\study_and_work_counselor\\.venv\\Lib\\site-packages\\langgraph\\pregel\\main.py:2390\u001b[39m, in \u001b[36mPregel._defaults\u001b[39m\u001b[34m(self, config, stream_mode, print_mode, output_keys, interrupt_before, interrupt_after, durability)\u001b[39m\n\u001b[32m   2388\u001b[39m     checkpointer = \u001b[38;5;28mself\u001b[39m.checkpointer\n\u001b[32m   2389\u001b[39m \u001b[38;5;28;01mif\u001b[39;00m checkpointer \u001b[38;5;129;01mand\u001b[39;00m \u001b[38;5;129;01mnot\u001b[39;00m config.get(CONF):\n\u001b[32m-> \u001b[39m\u001b[32m2390\u001b[39m     \u001b[38;5;28;01mraise\u001b[39;00m \u001b[38;5;167;01mValueError\u001b[39;00m(\n\u001b[32m   2391\u001b[39m         \u001b[33m\"\u001b[39m\u001b[33mCheckpointer requires one or more of the following \u001b[39m\u001b[33m'\u001b[39m\u001b[33mconfigurable\u001b[39m\u001b[33m'\u001b[39m\u001b[33m \u001b[39m\u001b[33m\"\u001b[39m\n\u001b[32m   2392\u001b[39m         \u001b[33m\"\u001b[39m\u001b[33mkeys: thread_id, checkpoint_ns, checkpoint_id\u001b[39m\u001b[33m\"\u001b[39m\n\u001b[32m   2393\u001b[39m     )\n\u001b[32m   2394\u001b[39m \u001b[38;5;28;01mif\u001b[39;00m CONFIG_KEY_RUNTIME \u001b[38;5;129;01min\u001b[39;00m config.get(CONF, {}):\n\u001b[32m   2395\u001b[39m     store: BaseStore | \u001b[38;5;28;01mNone\u001b[39;00m = config[CONF][CONFIG_KEY_RUNTIME].store\n",
      "\u001b[31mValueError\u001b[39m: Checkpointer requires one or more of the following 'configurable' keys: thread_id, checkpoint_ns, checkpoint_id"
     ]
    }
   ],
   "source": [
    "while True:\n",
    "    user_input = input(\"User: \")\n",
    "    if user_input.lower() in [\"quit\", \"exit\", \"q\"]:\n",
    "        print(\"Goodbye!\")\n",
    "        break\n",
    "    stream_graph_updates(user_input)"
   ]
  },
  {
   "cell_type": "code",
   "execution_count": 15,
   "id": "196a0568",
   "metadata": {},
   "outputs": [
    {
     "name": "stdout",
     "output_type": "stream",
     "text": [
      "Starting test conversation...\n"
     ]
    },
    {
     "name": "stderr",
     "output_type": "stream",
     "text": [
      "C:\\Users\\MartinHallberg\\AppData\\Local\\Temp\\ipykernel_2368\\2133682887.py:31: LangChainDeprecationWarning: The method `BaseChatModel.predict_messages` was deprecated in langchain-core 0.1.7 and will be removed in 1.0. Use :meth:`~invoke` instead.\n",
      "  response = llm.predict_messages(chat_prompt.format_messages())\n"
     ]
    },
    {
     "name": "stdout",
     "output_type": "stream",
     "text": [
      "It's wonderful to hear that you have a passion for working with animals and being outdoors! There are many career paths that could align with your interests. Here are a few options to consider:\n",
      "\n",
      "1. **Veterinary Technician or Technologist**: If you enjoy caring for animals and have an interest in veterinary medicine, this could be a great fit. It involves assisting veterinarians in clinics or animal hospitals.\n",
      "\n",
      "2. **Wildlife Biologist or Conservationist**: If you’re interested in studying animals in their natural habitats and working on conservation efforts, this could be a fulfilling career. It often involves fieldwork and research.\n",
      "\n",
      "3. **Zoologist**: This role involves studying animals in captivity and the wild, focusing on their behavior, physiology, and conservation. It often requires a degree in biology or a related field.\n",
      "\n",
      "4. **Animal Trainer or Behaviorist**: If you enjoy working directly with animals and helping them learn, this could be a rewarding path. It can involve training pets, service animals, or even working with wildlife.\n",
      "\n",
      "5. **Park Ranger**: If you love being outdoors and want to protect natural resources, becoming a park ranger could be a great option. This role often involves educating the public about wildlife and conservation.\n",
      "\n",
      "6. **Agricultural or Animal Husbandry Roles**: Working on a farm or in animal husbandry can be a great way to combine your love for animals and the outdoors. This could involve caring for livestock or working in sustainable agriculture.\n",
      "\n",
      "7. **Environmental Educator**: If you enjoy sharing your passion for animals and nature with others, consider a role in education, where you can teach people about wildlife and conservation.\n",
      "\n",
      "Think about what aspects of working with animals and being outdoors excite you the most. Do you prefer hands-on care, research, education, or conservation? Additionally, consider any educational requirements for these careers and whether you’re open to pursuing further studies or certifications. \n",
      "\n",
      "If you’d like, we can explore specific paths in more detail or discuss how to gain experience in these fields!\n"
     ]
    }
   ],
   "source": [
    "print(\"Starting test conversation...\")\n",
    "\n",
    "# First message\n",
    "response1 = simple_chat_v2.invoke({\n",
    "    \"messages\": \"I love working with animals and being outdoors.\"\n",
    "}, config=test_config)\n",
    "\n",
    "\n",
    "\n",
    "print(response1[\"messages\"][-1].content)"
   ]
  },
  {
   "cell_type": "code",
   "execution_count": null,
   "id": "5c9e1e43",
   "metadata": {},
   "outputs": [],
   "source": [
    "def chat_with_ai(input_text: str):\n",
    "    response = simple_chat_v2.invoke({\n",
    "        \"messages\": input_text\n",
    "    }, config=config)\n",
    "\n",
    "    print(response[\"messages\"][-1].content)\n",
    "    return response"
   ]
  },
  {
   "cell_type": "code",
   "execution_count": null,
   "id": "f62da01f",
   "metadata": {},
   "outputs": [
    {
     "name": "stdout",
     "output_type": "stream",
     "text": [
      "It's wonderful to hear that you have a passion for working with animals and being outdoors! There are many fulfilling career paths that can align with your interests. Here are a few options you might consider:\n",
      "\n",
      "1. **Veterinary Technician**: This role allows you to work closely with animals in a clinical setting, assisting veterinarians in providing care. It often involves both hands-on work with animals and some outdoor activities, especially if you work with wildlife or in rural areas.\n",
      "\n",
      "2. **Wildlife Biologist**: If you enjoy research and conservation, this could be a great fit. Wildlife biologists study animals in their natural habitats, which often involves fieldwork outdoors.\n",
      "\n",
      "3. **Zoologist**: Similar to wildlife biologists, zoologists study animals, but they often work in zoos or aquariums. This role can involve both research and direct care of animals.\n",
      "\n",
      "4. **Animal Trainer or Behaviorist**: If you have a knack for understanding animal behavior, you might enjoy training animals for various purposes, including service animals, therapy animals, or even performance animals.\n",
      "\n",
      "5. **Conservation Officer**: This role involves protecting wildlife and natural resources, often requiring outdoor work and interaction with the public to educate them about conservation efforts.\n",
      "\n",
      "6. **Farm or Ranch Manager**: If you enjoy hands-on work and have an interest in agriculture, managing a farm or ranch can be a rewarding way to work with animals and spend time outdoors.\n",
      "\n",
      "7. **Environmental Educator**: If you enjoy sharing your passion with others, consider a role in education, teaching people about wildlife, conservation, and the environment, often in outdoor settings.\n",
      "\n",
      "To explore these options further, consider volunteering or interning in related fields to gain experience and see what resonates with you. Additionally, researching educational programs or certifications in these areas can help you determine the best path forward. \n",
      "\n",
      "What do you think about these options? Do any of them resonate with you?...\n"
     ]
    }
   ],
   "source": []
  },
  {
   "cell_type": "code",
   "execution_count": null,
   "id": "c8d7339e",
   "metadata": {},
   "outputs": [],
   "source": [
    "# Second message - should remember the first\n",
    "response2 = simple_chat_v2.invoke({\n",
    "    \"messages\": \"I'm also very good with technology and programming.\"\n",
    "}, config=test_config)\n",
    "\n",
    "print(\"🤖 AI:\", response2[\"messages\"][-1].content[:100] + \"...\")\n",
    "\n",
    "# Third message - test if it remembers both previous messages\n",
    "response3 = simple_chat_v2.invoke({\n",
    "    \"messages\": \"What career combines all these interests I mentioned?\"\n",
    "}, config=test_config)\n",
    "\n",
    "print(\"🤖 AI:\", response3[\"messages\"][-1].content[:200] + \"...\")\n",
    "\n",
    "print(f\"\\n📊 Total messages in conversation: {len(response3['messages'])}\")\n",
    "print(\"✅ The AI should now reference both your love for animals/outdoors AND your tech skills!\")"
   ]
  },
  {
   "cell_type": "markdown",
   "id": "998a48e6",
   "metadata": {},
   "source": [
    "## Stream Chat"
   ]
  },
  {
   "cell_type": "code",
   "execution_count": null,
   "id": "0a9378bc",
   "metadata": {},
   "outputs": [],
   "source": []
  },
  {
   "cell_type": "code",
   "execution_count": null,
   "id": "781b45ae",
   "metadata": {},
   "outputs": [],
   "source": []
  }
 ],
 "metadata": {
  "kernelspec": {
   "display_name": "study-and-work-counselor-py3.12",
   "language": "python",
   "name": "python3"
  },
  "language_info": {
   "codemirror_mode": {
    "name": "ipython",
    "version": 3
   },
   "file_extension": ".py",
   "mimetype": "text/x-python",
   "name": "python",
   "nbconvert_exporter": "python",
   "pygments_lexer": "ipython3",
   "version": "3.12.5"
  }
 },
 "nbformat": 4,
 "nbformat_minor": 5
}
